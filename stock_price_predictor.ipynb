{
  "nbformat": 4,
  "nbformat_minor": 0,
  "metadata": {
    "colab": {
      "provenance": []
    },
    "kernelspec": {
      "name": "python3",
      "display_name": "Python 3"
    },
    "language_info": {
      "name": "python"
    }
  },
  "cells": [
    {
      "cell_type": "code",
      "execution_count": null,
      "metadata": {
        "id": "MzlXBKyXAbsP"
      },
      "outputs": [],
      "source": [
        "from sklearn.svm import SVC\n",
        "from sklearn.metrics import accuracy_score\n",
        "  \n",
        "import pandas as pd\n",
        "import numpy as np\n",
        "  \n",
        "import matplotlib.pyplot as plt\n",
        "plt.style.use('seaborn-darkgrid')\n",
        "%matplotlib inline\n",
        "\n",
        "import warnings\n",
        "warnings.filterwarnings(\"ignore\")"
      ]
    },
    {
      "cell_type": "code",
      "source": [
        "from google.colab import drive\n",
        "drive.mount('/content/gdrive', force_remount=True, timeout_ms=120000)\n"
      ],
      "metadata": {
        "id": "mmkiSslABPlA"
      },
      "execution_count": null,
      "outputs": []
    },
    {
      "cell_type": "code",
      "source": [
        "%cd /content/gdrive/MyDrive/stock_price/\n",
        "%ls"
      ],
      "metadata": {
        "id": "D5bnoBNfBT05"
      },
      "execution_count": null,
      "outputs": []
    },
    {
      "cell_type": "code",
      "source": [
        "data_path = ''\n",
        "df = pd.read_csv(data_path)\n",
        "df"
      ],
      "metadata": {
        "id": "_6sIOC8MBWye"
      },
      "execution_count": null,
      "outputs": []
    },
    {
      "cell_type": "code",
      "source": [
        "df.index = pd.to_datetime(df['Date'])\n",
        "# df\n",
        "\n",
        "df = df.drop(['Date'], axis='columns')\n",
        "df"
      ],
      "metadata": {
        "id": "tXlCR0BLBmz7"
      },
      "execution_count": null,
      "outputs": []
    },
    {
      "cell_type": "code",
      "source": [
        "# Pred vars\n",
        "df['Open-Close'] = df.Open - df.Close\n",
        "df['High-Low'] = df.High - df.Low\n",
        "  \n",
        "X = df[['Open-Close', 'High-Low']]\n",
        "X.head()"
      ],
      "metadata": {
        "id": "F8HL0eWgBuxm"
      },
      "execution_count": null,
      "outputs": []
    },
    {
      "cell_type": "code",
      "source": [
        "y = np.where(df['Close'].shift(-1) > df['Close'], 1, 0)\n",
        "y"
      ],
      "metadata": {
        "id": "1bB60J8QBzv9"
      },
      "execution_count": null,
      "outputs": []
    },
    {
      "cell_type": "code",
      "source": [
        "split_percentage = 0.8\n",
        "split = int(split_percentage*len(df))\n",
        "  \n",
        "# Training\n",
        "X_train = X[:split]\n",
        "y_train = y[:split]\n",
        "  \n",
        "# Testing\n",
        "X_test = X[split:]\n",
        "y_test = y[split:]"
      ],
      "metadata": {
        "id": "RtAZwh0UB2Tp"
      },
      "execution_count": null,
      "outputs": []
    },
    {
      "cell_type": "code",
      "source": [
        "classifier = SVC().fit(X_train, y_train)\n"
      ],
      "metadata": {
        "id": "KUeWHshVB8uH"
      },
      "execution_count": null,
      "outputs": []
    },
    {
      "cell_type": "code",
      "source": [
        "df['Predicted_Signal'] = classifier.predict(X)\n"
      ],
      "metadata": {
        "id": "cMJenXaKB_qf"
      },
      "execution_count": null,
      "outputs": []
    },
    {
      "cell_type": "code",
      "source": [
        "df['Return'] = df.Close.pct_change()\n",
        "df"
      ],
      "metadata": {
        "id": "9Sl_RxiCCAPG"
      },
      "execution_count": null,
      "outputs": []
    },
    {
      "cell_type": "code",
      "source": [
        "df['Strategy_Return'] = df.Return *df.Predicted_Signal.shift(1)\n",
        "df"
      ],
      "metadata": {
        "id": "1xsv-VTjCB5U"
      },
      "execution_count": null,
      "outputs": []
    },
    {
      "cell_type": "code",
      "source": [
        "df['Cum_Ret'] = df['Return'].cumsum()\n",
        "df"
      ],
      "metadata": {
        "id": "cT3Ndq3GF4ko"
      },
      "execution_count": null,
      "outputs": []
    },
    {
      "cell_type": "code",
      "source": [
        "df['Cum_Strategy'] = df['Strategy_Return'].cumsum()\n",
        "df"
      ],
      "metadata": {
        "id": "JjkvUQkFGF1f"
      },
      "execution_count": null,
      "outputs": []
    },
    {
      "cell_type": "code",
      "source": [
        "plt.plot(df['Cum_Ret'],color='red')\n",
        "plt.plot(df['Cum_Strategy'],color='blue')"
      ],
      "metadata": {
        "id": "nt86T84LGMsq"
      },
      "execution_count": null,
      "outputs": []
    }
  ]
}